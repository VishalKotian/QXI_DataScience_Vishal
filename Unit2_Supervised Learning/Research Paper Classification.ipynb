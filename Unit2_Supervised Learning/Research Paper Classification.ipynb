{
 "cells": [
  {
   "cell_type": "code",
   "execution_count": 1,
   "metadata": {},
   "outputs": [],
   "source": [
    "import pandas as pd \n",
    "import sklearn\n",
    "import numpy as np\n",
    "import nltk\n",
    "#nltk.download('stopwords')\n",
    "import re\n",
    "\n",
    "from nltk.corpus import stopwords\n",
    "from sklearn.feature_extraction.text import TfidfVectorizer\n",
    "\n",
    "from sklearn.naive_bayes import MultinomialNB\n",
    "from sklearn.ensemble import RandomForestClassifier\n",
    "from sklearn.svm import LinearSVC\n",
    "from sklearn.linear_model import LogisticRegression\n",
    "\n",
    "from sklearn import tree\n",
    "from sklearn.decomposition import TruncatedSVD\n",
    "from sklearn.feature_selection import chi2\n",
    "\n",
    "from sklearn.preprocessing import Normalizer\n",
    "from sklearn.pipeline import make_pipeline\n",
    "\n",
    "from sklearn.feature_selection import SelectFromModel\n",
    "from sklearn.feature_selection import SelectKBest\n",
    "\n",
    "from sklearn.model_selection import StratifiedKFold\n",
    "from sklearn.metrics import precision_recall_fscore_support\n",
    "\n",
    "\n",
    "import gensim, logging\n",
    "from gensim.models import Word2Vec\n",
    "from scipy import sparse"
   ]
  },
  {
   "cell_type": "code",
   "execution_count": 2,
   "metadata": {},
   "outputs": [],
   "source": [
    "def loadData(filePath=\"dataset.csv\"):\n",
    "    data = pd.read_csv(filePath, header=0)\n",
    "    return data[\"Title\"],data[\"Conference\"]\n",
    "\n",
    "def preProcessing(features):\n",
    "    num_titles = features.size\n",
    "    clean_wordlist = []\n",
    "    clean_titles = []\n",
    "    stops = set(stopwords.words('english'))\n",
    "    for i in range( 0, num_titles):\n",
    "        #letters_only = re.sub(\"[^a-zA-Z]\", \" \", features[i]) \n",
    "        words = features[i].lower().split()\n",
    "        words = [w.lower() for w in words if not w in stops]  \n",
    "        clean_wordlist.append(words)\n",
    "        clean_titles.append(\" \".join(words))\n",
    "    return clean_titles, clean_wordlist"
   ]
  },
  {
   "cell_type": "code",
   "execution_count": 3,
   "metadata": {},
   "outputs": [],
   "source": [
    "def getDTMByTFIDF(features,nfeatures):\n",
    "    tfIdf_vectorizer = TfidfVectorizer(max_features=nfeatures)\n",
    "    dtm = tfIdf_vectorizer.fit_transform(features).toarray()\n",
    "    return dtm,tfIdf_vectorizer"
   ]
  },
  {
   "cell_type": "code",
   "execution_count": 4,
   "metadata": {},
   "outputs": [],
   "source": [
    "def featuresByChiSq(features,labels,nFeature=5000):\n",
    "    chi2_model = SelectKBest(chi2,k=nFeature)\n",
    "    dtm = chi2_model.fit_transform(features,labels)\n",
    "    return dtm,chi2_model\n",
    "\n",
    "def featuresByInformationGain(features,labels):\n",
    "    treeCL = tree.DecisionTreeClassifier(criterion=\"entropy\")\n",
    "    treeCL = treeCL.fit(features,labels)\n",
    "    transformed_features = SelectFromModel(treeCL,prefit=True).transform(features)\n",
    "    return transformed_features\n",
    "\n",
    "def featuresByLSA(features,ncomponents=100):\n",
    "    svd = TruncatedSVD(n_components=ncomponents)  \n",
    "    normalizer =  Normalizer(copy=False)\n",
    "    lsa = make_pipeline(svd, normalizer)\n",
    "    dtm_lsa = lsa.fit_transform(features)\n",
    "    return dtm_lsa"
   ]
  },
  {
   "cell_type": "code",
   "execution_count": 5,
   "metadata": {},
   "outputs": [],
   "source": [
    "def makeFeatureVec(words, model, num_features):\n",
    "    feature_vec = np.zeros((num_features,),dtype=\"float32\")\n",
    "    nwords = 0.\n",
    "    index2word_set = set(model.wv.index2word)\n",
    "    for word in words:\n",
    "        if word in index2word_set: \n",
    "            nwords = nwords + 1.\n",
    "            feature_vec = np.add(feature_vec,model[word]) \n",
    "\n",
    "    feature_vec = np.divide(feature_vec,nwords)\n",
    "   \n",
    "    return feature_vec\n",
    "\n",
    "def getAvgFeatureVecs(title, model, num_features):\n",
    "    counter = 0\n",
    "    titleFeatureVecs = np.zeros((len(title), num_features),dtype=\"float32\")\n",
    "    for t in title:\n",
    "        titleFeatureVecs[counter] = makeFeatureVec(t, model,num_features)\n",
    "        counter = counter + 1\n",
    "    return titleFeatureVecs"
   ]
  },
  {
   "cell_type": "code",
   "execution_count": 6,
   "metadata": {},
   "outputs": [],
   "source": [
    "def crossValidate(document_term_matrix,labels,classifier,nfold=2):\n",
    "    clf = None\n",
    "    precision = []\n",
    "    recall = []\n",
    "    fscore = []\n",
    "    \n",
    "    if classifier == \"RF\":\n",
    "        clf = RandomForestClassifier()\n",
    "    elif classifier ==\"LR\":\n",
    "        clf = LogisticRegression()\n",
    "    elif classifier == \"NB\":\n",
    "        clf = MultinomialNB()\n",
    "    elif classifier == \"SVM\":\n",
    "        clf = LinearSVC()\n",
    "\n",
    "    \n",
    "    skf = StratifiedKFold(random_state=None, shuffle=False)\n",
    "\n",
    "    for train_index, test_index in skf.split(document_term_matrix, labels):\n",
    "        X_train, X_test = document_term_matrix[train_index], document_term_matrix[test_index]\n",
    "        y_train, y_test = labels[train_index], labels[test_index]\n",
    "        model = clf.fit(X_train, y_train)\n",
    "        y_pred = model.predict(X_test)\n",
    "        p,r,f,s = precision_recall_fscore_support(y_test, y_pred, average='weighted')\n",
    "        precision.append(p)\n",
    "        recall.append(r)\n",
    "        fscore.append(f)\n",
    "        \n",
    "    return np.mean(precision),np.mean(recall),np.mean(fscore)"
   ]
  },
  {
   "cell_type": "code",
   "execution_count": 7,
   "metadata": {},
   "outputs": [],
   "source": [
    "titles, labels = loadData()\n",
    "processed_titles, processed_titles_wordlist = preProcessing(titles)\n",
    "dtm,vect = getDTMByTFIDF(processed_titles,None)"
   ]
  },
  {
   "cell_type": "code",
   "execution_count": 8,
   "metadata": {},
   "outputs": [],
   "source": [
    "chisqDtm, chisqModel = featuresByChiSq(dtm,labels,2000)\n",
    "igDtm = featuresByInformationGain(dtm,labels)\n",
    "lsaDtm = featuresByLSA(dtm,100)"
   ]
  },
  {
   "cell_type": "code",
   "execution_count": 9,
   "metadata": {},
   "outputs": [],
   "source": [
    "num_features = 300    # Word vector dimensionality                      \n",
    "min_word_count = 1    # Minimum word count                        \n",
    "num_workers = 1       # Number of threads to run in parallel\n",
    "context = 8           # Context window size                                                                                    \n",
    "downsampling = 1e-5   # Downsample setting for frequent words\n",
    "\n",
    "word2vec_model = Word2Vec(processed_titles_wordlist, workers=num_workers, \n",
    "            size=num_features, min_count = min_word_count, \n",
    "            window = context, sample = downsampling)\n",
    "word2vec_model.init_sims(replace=True)"
   ]
  },
  {
   "cell_type": "code",
   "execution_count": 10,
   "metadata": {},
   "outputs": [
    {
     "name": "stderr",
     "output_type": "stream",
     "text": [
      "C:\\Users\\Vishal Kotian\\Anaconda3\\lib\\site-packages\\ipykernel_launcher.py:8: DeprecationWarning: Call to deprecated `__getitem__` (Method will be removed in 4.0.0, use self.wv.__getitem__() instead).\n",
      "  \n"
     ]
    }
   ],
   "source": [
    "wordVecs = getAvgFeatureVecs(processed_titles_wordlist, word2vec_model, num_features)"
   ]
  },
  {
   "cell_type": "code",
   "execution_count": 11,
   "metadata": {},
   "outputs": [],
   "source": [
    "#Combine features from chiSq and word2Vec\n",
    "combinedFeatures = np.hstack([chisqDtm,wordVecs])"
   ]
  },
  {
   "cell_type": "code",
   "execution_count": 12,
   "metadata": {},
   "outputs": [
    {
     "name": "stdout",
     "output_type": "stream",
     "text": [
      "ChiSq Features: 0.7282341325883649 0.6992556719230861 0.6867470047954123\n"
     ]
    }
   ],
   "source": [
    "precision, recall, fscore = crossValidate(chisqDtm,labels,\"RF\",10)\n",
    "print(\"ChiSq Features:\",precision, recall, fscore)"
   ]
  },
  {
   "cell_type": "code",
   "execution_count": 13,
   "metadata": {},
   "outputs": [
    {
     "name": "stdout",
     "output_type": "stream",
     "text": [
      "Combined Features: 0.5813071141172539 0.5273309953797584 0.47441374892524435\n"
     ]
    }
   ],
   "source": [
    "precision, recall, fscore = crossValidate(combinedFeatures,labels,\"RF\",10)\n",
    "print (\"Combined Features:\",precision, recall, fscore)"
   ]
  },
  {
   "cell_type": "code",
   "execution_count": 14,
   "metadata": {},
   "outputs": [
    {
     "name": "stdout",
     "output_type": "stream",
     "text": [
      "ChiSq Features: 0.7564486055752755 0.7152038552377318 0.7019096050883945\n"
     ]
    }
   ],
   "source": [
    "precision, recall, fscore = crossValidate(chisqDtm,labels,\"LR\",10)\n",
    "print(\"ChiSq Features:\",precision, recall, fscore)"
   ]
  },
  {
   "cell_type": "code",
   "execution_count": 15,
   "metadata": {},
   "outputs": [
    {
     "name": "stdout",
     "output_type": "stream",
     "text": [
      "Combined Features: 0.7587526829616291 0.7203894998846929 0.706795216555568\n"
     ]
    }
   ],
   "source": [
    "precision, recall, fscore = crossValidate(combinedFeatures,labels,\"LR\",10)\n",
    "print (\"Combined Features:\",precision, recall, fscore)"
   ]
  },
  {
   "cell_type": "code",
   "execution_count": 16,
   "metadata": {},
   "outputs": [
    {
     "name": "stdout",
     "output_type": "stream",
     "text": [
      "ChiSq Features: 0.7986043302420478 0.7909909265135069 0.7841780651645559\n"
     ]
    }
   ],
   "source": [
    "precision, recall, fscore = crossValidate(chisqDtm,labels,\"SVM\",10)\n",
    "print(\"ChiSq Features:\",precision, recall, fscore)"
   ]
  },
  {
   "cell_type": "code",
   "execution_count": 17,
   "metadata": {},
   "outputs": [
    {
     "name": "stdout",
     "output_type": "stream",
     "text": [
      "Combined Features: 0.7843712007551237 0.780614070663454 0.7735955989220133\n"
     ]
    }
   ],
   "source": [
    "precision, recall, fscore = crossValidate(combinedFeatures,labels,\"SVM\",10)\n",
    "print (\"Combined Features:\",precision, recall, fscore)"
   ]
  },
  {
   "cell_type": "code",
   "execution_count": 18,
   "metadata": {},
   "outputs": [
    {
     "name": "stdout",
     "output_type": "stream",
     "text": [
      "ChiSq Features: 0.7627066532867344 0.6876796208380054 0.6595073408732031\n"
     ]
    }
   ],
   "source": [
    "precision, recall, fscore = crossValidate(chisqDtm,labels,\"NB\",10)\n",
    "print(\"ChiSq Features:\",precision, recall, fscore)"
   ]
  },
  {
   "cell_type": "code",
   "execution_count": 19,
   "metadata": {},
   "outputs": [],
   "source": [
    "# precision, recall, fscore = crossValidate(combinedFeatures,labels,\"NB\",10)\n",
    "# print (\"Combined Features:\",precision, recall, fscore)"
   ]
  }
 ],
 "metadata": {
  "kernelspec": {
   "display_name": "Python 3",
   "language": "python",
   "name": "python3"
  },
  "language_info": {
   "codemirror_mode": {
    "name": "ipython",
    "version": 3
   },
   "file_extension": ".py",
   "mimetype": "text/x-python",
   "name": "python",
   "nbconvert_exporter": "python",
   "pygments_lexer": "ipython3",
   "version": "3.7.6"
  }
 },
 "nbformat": 4,
 "nbformat_minor": 2
}
