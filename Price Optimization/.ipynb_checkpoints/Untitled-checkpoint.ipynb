{
 "cells": [
  {
   "cell_type": "code",
   "execution_count": 1,
   "metadata": {},
   "outputs": [],
   "source": [
    "import pandas as pd\n",
    "import numpy as np\n",
    "import matplotlib.pyplot as plt\n",
    "%matplotlib inline"
   ]
  },
  {
   "cell_type": "code",
   "execution_count": 2,
   "metadata": {},
   "outputs": [],
   "source": [
    "df_raw = pd.read_csv('Vendor_Data.csv')"
   ]
  },
  {
   "cell_type": "code",
   "execution_count": 3,
   "metadata": {},
   "outputs": [
    {
     "data": {
      "text/html": [
       "<div>\n",
       "<style scoped>\n",
       "    .dataframe tbody tr th:only-of-type {\n",
       "        vertical-align: middle;\n",
       "    }\n",
       "\n",
       "    .dataframe tbody tr th {\n",
       "        vertical-align: top;\n",
       "    }\n",
       "\n",
       "    .dataframe thead th {\n",
       "        text-align: right;\n",
       "    }\n",
       "</style>\n",
       "<table border=\"1\" class=\"dataframe\">\n",
       "  <thead>\n",
       "    <tr style=\"text-align: right;\">\n",
       "      <th></th>\n",
       "      <th>Products</th>\n",
       "      <th>Avg_Price_per_unit</th>\n",
       "      <th>Cost_per_unit</th>\n",
       "      <th>Average_Profit_per_unit</th>\n",
       "      <th>Average_units_sold</th>\n",
       "      <th>Incremental_acquisition</th>\n",
       "      <th>Increase_sale_volume</th>\n",
       "    </tr>\n",
       "  </thead>\n",
       "  <tbody>\n",
       "    <tr>\n",
       "      <th>0</th>\n",
       "      <td>Product 1</td>\n",
       "      <td>95</td>\n",
       "      <td>92</td>\n",
       "      <td>2.8</td>\n",
       "      <td>0.6</td>\n",
       "      <td>0.00323</td>\n",
       "      <td>0.08906</td>\n",
       "    </tr>\n",
       "    <tr>\n",
       "      <th>1</th>\n",
       "      <td>Product 2</td>\n",
       "      <td>37</td>\n",
       "      <td>27</td>\n",
       "      <td>10.0</td>\n",
       "      <td>0.8</td>\n",
       "      <td>0.00106</td>\n",
       "      <td>0.01991</td>\n",
       "    </tr>\n",
       "    <tr>\n",
       "      <th>2</th>\n",
       "      <td>Product 3</td>\n",
       "      <td>34</td>\n",
       "      <td>26</td>\n",
       "      <td>8.5</td>\n",
       "      <td>0.6</td>\n",
       "      <td>0.00328</td>\n",
       "      <td>0.03778</td>\n",
       "    </tr>\n",
       "    <tr>\n",
       "      <th>3</th>\n",
       "      <td>Product 4</td>\n",
       "      <td>32</td>\n",
       "      <td>30</td>\n",
       "      <td>2.8</td>\n",
       "      <td>0.7</td>\n",
       "      <td>0.00000</td>\n",
       "      <td>0.08562</td>\n",
       "    </tr>\n",
       "    <tr>\n",
       "      <th>4</th>\n",
       "      <td>Product 5</td>\n",
       "      <td>62</td>\n",
       "      <td>45</td>\n",
       "      <td>16.0</td>\n",
       "      <td>1.0</td>\n",
       "      <td>0.00079</td>\n",
       "      <td>0.02637</td>\n",
       "    </tr>\n",
       "  </tbody>\n",
       "</table>\n",
       "</div>"
      ],
      "text/plain": [
       "    Products  Avg_Price_per_unit  Cost_per_unit  Average_Profit_per_unit  \\\n",
       "0  Product 1                  95             92                      2.8   \n",
       "1  Product 2                  37             27                     10.0   \n",
       "2  Product 3                  34             26                      8.5   \n",
       "3  Product 4                  32             30                      2.8   \n",
       "4  Product 5                  62             45                     16.0   \n",
       "\n",
       "   Average_units_sold  Incremental_acquisition  Increase_sale_volume  \n",
       "0                 0.6                  0.00323               0.08906  \n",
       "1                 0.8                  0.00106               0.01991  \n",
       "2                 0.6                  0.00328               0.03778  \n",
       "3                 0.7                  0.00000               0.08562  \n",
       "4                 1.0                  0.00079               0.02637  "
      ]
     },
     "execution_count": 3,
     "metadata": {},
     "output_type": "execute_result"
    }
   ],
   "source": [
    "df_raw.head()"
   ]
  },
  {
   "cell_type": "code",
   "execution_count": 4,
   "metadata": {},
   "outputs": [
    {
     "data": {
      "text/html": [
       "<div>\n",
       "<style scoped>\n",
       "    .dataframe tbody tr th:only-of-type {\n",
       "        vertical-align: middle;\n",
       "    }\n",
       "\n",
       "    .dataframe tbody tr th {\n",
       "        vertical-align: top;\n",
       "    }\n",
       "\n",
       "    .dataframe thead th {\n",
       "        text-align: right;\n",
       "    }\n",
       "</style>\n",
       "<table border=\"1\" class=\"dataframe\">\n",
       "  <thead>\n",
       "    <tr style=\"text-align: right;\">\n",
       "      <th></th>\n",
       "      <th>Avg_Price_per_unit</th>\n",
       "      <th>Cost_per_unit</th>\n",
       "      <th>Average_Profit_per_unit</th>\n",
       "      <th>Average_units_sold</th>\n",
       "      <th>Incremental_acquisition</th>\n",
       "      <th>Increase_sale_volume</th>\n",
       "    </tr>\n",
       "  </thead>\n",
       "  <tbody>\n",
       "    <tr>\n",
       "      <th>count</th>\n",
       "      <td>250.000000</td>\n",
       "      <td>250.000000</td>\n",
       "      <td>250.000000</td>\n",
       "      <td>250.000000</td>\n",
       "      <td>250.000000</td>\n",
       "      <td>250.000000</td>\n",
       "    </tr>\n",
       "    <tr>\n",
       "      <th>mean</th>\n",
       "      <td>60.620000</td>\n",
       "      <td>51.596000</td>\n",
       "      <td>9.034400</td>\n",
       "      <td>1.500400</td>\n",
       "      <td>0.001366</td>\n",
       "      <td>0.050986</td>\n",
       "    </tr>\n",
       "    <tr>\n",
       "      <th>std</th>\n",
       "      <td>28.318959</td>\n",
       "      <td>24.182223</td>\n",
       "      <td>7.433913</td>\n",
       "      <td>0.839511</td>\n",
       "      <td>0.001579</td>\n",
       "      <td>0.029084</td>\n",
       "    </tr>\n",
       "    <tr>\n",
       "      <th>min</th>\n",
       "      <td>10.000000</td>\n",
       "      <td>9.000000</td>\n",
       "      <td>0.000000</td>\n",
       "      <td>0.100000</td>\n",
       "      <td>0.000000</td>\n",
       "      <td>0.000370</td>\n",
       "    </tr>\n",
       "    <tr>\n",
       "      <th>25%</th>\n",
       "      <td>37.000000</td>\n",
       "      <td>32.000000</td>\n",
       "      <td>3.100000</td>\n",
       "      <td>0.800000</td>\n",
       "      <td>0.000000</td>\n",
       "      <td>0.025528</td>\n",
       "    </tr>\n",
       "    <tr>\n",
       "      <th>50%</th>\n",
       "      <td>57.000000</td>\n",
       "      <td>50.500000</td>\n",
       "      <td>7.150000</td>\n",
       "      <td>1.400000</td>\n",
       "      <td>0.000690</td>\n",
       "      <td>0.051620</td>\n",
       "    </tr>\n",
       "    <tr>\n",
       "      <th>75%</th>\n",
       "      <td>85.750000</td>\n",
       "      <td>71.750000</td>\n",
       "      <td>12.975000</td>\n",
       "      <td>2.200000</td>\n",
       "      <td>0.002560</td>\n",
       "      <td>0.076580</td>\n",
       "    </tr>\n",
       "    <tr>\n",
       "      <th>max</th>\n",
       "      <td>110.000000</td>\n",
       "      <td>105.000000</td>\n",
       "      <td>29.700000</td>\n",
       "      <td>3.100000</td>\n",
       "      <td>0.006150</td>\n",
       "      <td>0.099430</td>\n",
       "    </tr>\n",
       "  </tbody>\n",
       "</table>\n",
       "</div>"
      ],
      "text/plain": [
       "       Avg_Price_per_unit  Cost_per_unit  Average_Profit_per_unit  \\\n",
       "count          250.000000     250.000000               250.000000   \n",
       "mean            60.620000      51.596000                 9.034400   \n",
       "std             28.318959      24.182223                 7.433913   \n",
       "min             10.000000       9.000000                 0.000000   \n",
       "25%             37.000000      32.000000                 3.100000   \n",
       "50%             57.000000      50.500000                 7.150000   \n",
       "75%             85.750000      71.750000                12.975000   \n",
       "max            110.000000     105.000000                29.700000   \n",
       "\n",
       "       Average_units_sold  Incremental_acquisition  Increase_sale_volume  \n",
       "count          250.000000               250.000000            250.000000  \n",
       "mean             1.500400                 0.001366              0.050986  \n",
       "std              0.839511                 0.001579              0.029084  \n",
       "min              0.100000                 0.000000              0.000370  \n",
       "25%              0.800000                 0.000000              0.025528  \n",
       "50%              1.400000                 0.000690              0.051620  \n",
       "75%              2.200000                 0.002560              0.076580  \n",
       "max              3.100000                 0.006150              0.099430  "
      ]
     },
     "execution_count": 4,
     "metadata": {},
     "output_type": "execute_result"
    }
   ],
   "source": [
    "df_raw.describe()"
   ]
  },
  {
   "cell_type": "code",
   "execution_count": 5,
   "metadata": {},
   "outputs": [
    {
     "data": {
      "text/plain": [
       "(250, 7)"
      ]
     },
     "execution_count": 5,
     "metadata": {},
     "output_type": "execute_result"
    }
   ],
   "source": [
    "df_raw.shape"
   ]
  },
  {
   "cell_type": "code",
   "execution_count": 6,
   "metadata": {},
   "outputs": [
    {
     "data": {
      "text/plain": [
       "2258.599999999999"
      ]
     },
     "execution_count": 6,
     "metadata": {},
     "output_type": "execute_result"
    }
   ],
   "source": [
    "sum(df_raw['Average_Profit_per_unit'])"
   ]
  },
  {
   "cell_type": "code",
   "execution_count": 7,
   "metadata": {},
   "outputs": [
    {
     "data": {
      "text/plain": [
       "0.34152000000000016"
      ]
     },
     "execution_count": 7,
     "metadata": {},
     "output_type": "execute_result"
    }
   ],
   "source": [
    "sum(df_raw['Incremental_acquisition'])"
   ]
  },
  {
   "cell_type": "code",
   "execution_count": 8,
   "metadata": {},
   "outputs": [],
   "source": [
    "increment = np.zeros(df_raw.shape[0], dtype=np.float64)"
   ]
  },
  {
   "cell_type": "code",
   "execution_count": 9,
   "metadata": {},
   "outputs": [
    {
     "name": "stdout",
     "output_type": "stream",
     "text": [
      "(250,)\n"
     ]
    }
   ],
   "source": [
    "print(increment.shape)"
   ]
  },
  {
   "cell_type": "code",
   "execution_count": 10,
   "metadata": {},
   "outputs": [],
   "source": [
    "def find_rev(increment):\n",
    "    print('find rev function!!!', round(increment[1],5))\n",
    "    price = df_raw['Avg_Price_per_unit'] * (1 + increment)\n",
    "    volumes = df_raw['Average_units_sold'] * (1 - (df_raw['Increase_sale_volume'] * increment * 10))\n",
    "    multiplier = 1 - (df_raw['Incremental_acquisition'] * increment * 10)\n",
    "    total_multiplier = np.prod(multiplier)\n",
    "    profit_wo_multiplier = 0.05 * (np.sum(price*volumes) -np.sum(volumes * df_raw['Cost_per_unit']))\n",
    "    profit_w_multiplier = total_multiplier * profit_wo_multiplier\n",
    "    net_profit = np.sum(profit_w_multiplier)\n",
    "    return net_profit"
   ]
  },
  {
   "cell_type": "code",
   "execution_count": 11,
   "metadata": {},
   "outputs": [],
   "source": [
    "def incremental_new(initial_increments):\n",
    "#This function tries to get the next best increment vector def incremental_new(initial_increments):\n",
    "    initial_rev = find_rev(initial_increments)\n",
    "    intermediate_rev = 0\n",
    "    for i in range(0,250):\n",
    "        print('CURRENT I', i, increments)\n",
    "        increments = initial_increments\n",
    "        print('increments[i]',increments[i],'initial_increments[i]',initial_increments[i])\n",
    "        if increments[i] > -0.099:\n",
    "            print('yes1')\n",
    "            increments[i] = (increments[i] - 0.011) #0.01\n",
    "            print('new i1', increments[i])\n",
    "            rev = find_rev(increments)\n",
    "            print('rev', rev)\n",
    "            #final_increments = 0\n",
    "            if rev > initial_rev:\n",
    "                final_increments = increments\n",
    "                intermediate_rev = rev\n",
    "                if increments[i] == np.max(initial_rev) or rev > np.max(intermediate_rev):\n",
    "                    final_increments = increments\n",
    "                    print('final',final_increments)\n",
    "    return final_increments"
   ]
  },
  {
   "cell_type": "code",
   "execution_count": 12,
   "metadata": {},
   "outputs": [
    {
     "name": "stdout",
     "output_type": "stream",
     "text": [
      "find rev function!!! 0.0\n",
      "Initial overall profit: 164.2949999999999\n",
      "find rev function!!! 0.0\n"
     ]
    },
    {
     "ename": "UnboundLocalError",
     "evalue": "local variable 'increments' referenced before assignment",
     "output_type": "error",
     "traceback": [
      "\u001b[1;31m---------------------------------------------------------------------------\u001b[0m",
      "\u001b[1;31mUnboundLocalError\u001b[0m                         Traceback (most recent call last)",
      "\u001b[1;32m<ipython-input-12-23014a5d1346>\u001b[0m in \u001b[0;36m<module>\u001b[1;34m\u001b[0m\n\u001b[0;32m      4\u001b[0m \u001b[1;32mwhile\u001b[0m \u001b[0mflag\u001b[0m \u001b[1;33m==\u001b[0m \u001b[1;36m0\u001b[0m\u001b[1;33m:\u001b[0m\u001b[1;33m\u001b[0m\u001b[1;33m\u001b[0m\u001b[0m\n\u001b[0;32m      5\u001b[0m     \u001b[0mprint\u001b[0m\u001b[1;33m(\u001b[0m\u001b[1;34m'Initial overall profit:'\u001b[0m\u001b[1;33m,\u001b[0m\u001b[0mfind_rev\u001b[0m\u001b[1;33m(\u001b[0m\u001b[0mincrement_i\u001b[0m\u001b[1;33m)\u001b[0m\u001b[1;33m)\u001b[0m\u001b[1;33m\u001b[0m\u001b[1;33m\u001b[0m\u001b[0m\n\u001b[1;32m----> 6\u001b[1;33m     \u001b[0mincrement_iplus1\u001b[0m \u001b[1;33m=\u001b[0m \u001b[0mincremental_new\u001b[0m\u001b[1;33m(\u001b[0m\u001b[0mincrement_i\u001b[0m\u001b[1;33m)\u001b[0m\u001b[1;33m\u001b[0m\u001b[1;33m\u001b[0m\u001b[0m\n\u001b[0m\u001b[0;32m      7\u001b[0m     \u001b[1;32mif\u001b[0m \u001b[0mmin\u001b[0m\u001b[1;33m(\u001b[0m\u001b[0mincrement_iplus1\u001b[0m\u001b[1;33m)\u001b[0m \u001b[1;33m==\u001b[0m \u001b[0mmin\u001b[0m\u001b[1;33m(\u001b[0m\u001b[0mincrement_i\u001b[0m\u001b[1;33m)\u001b[0m\u001b[1;33m:\u001b[0m\u001b[1;33m\u001b[0m\u001b[1;33m\u001b[0m\u001b[0m\n\u001b[0;32m      8\u001b[0m         \u001b[1;32mif\u001b[0m \u001b[0mmin\u001b[0m\u001b[1;33m(\u001b[0m\u001b[0mincrement_iplus1\u001b[0m\u001b[1;33m)\u001b[0m \u001b[1;33m==\u001b[0m \u001b[1;36m1\u001b[0m\u001b[1;33m:\u001b[0m\u001b[1;33m\u001b[0m\u001b[1;33m\u001b[0m\u001b[0m\n",
      "\u001b[1;32m<ipython-input-11-e72689759617>\u001b[0m in \u001b[0;36mincremental_new\u001b[1;34m(initial_increments)\u001b[0m\n\u001b[0;32m      4\u001b[0m     \u001b[0mintermediate_rev\u001b[0m \u001b[1;33m=\u001b[0m \u001b[1;36m0\u001b[0m\u001b[1;33m\u001b[0m\u001b[1;33m\u001b[0m\u001b[0m\n\u001b[0;32m      5\u001b[0m     \u001b[1;32mfor\u001b[0m \u001b[0mi\u001b[0m \u001b[1;32min\u001b[0m \u001b[0mrange\u001b[0m\u001b[1;33m(\u001b[0m\u001b[1;36m0\u001b[0m\u001b[1;33m,\u001b[0m\u001b[1;36m250\u001b[0m\u001b[1;33m)\u001b[0m\u001b[1;33m:\u001b[0m\u001b[1;33m\u001b[0m\u001b[1;33m\u001b[0m\u001b[0m\n\u001b[1;32m----> 6\u001b[1;33m         \u001b[0mprint\u001b[0m\u001b[1;33m(\u001b[0m\u001b[1;34m'CURRENT I'\u001b[0m\u001b[1;33m,\u001b[0m \u001b[0mi\u001b[0m\u001b[1;33m,\u001b[0m \u001b[0mincrements\u001b[0m\u001b[1;33m)\u001b[0m\u001b[1;33m\u001b[0m\u001b[1;33m\u001b[0m\u001b[0m\n\u001b[0m\u001b[0;32m      7\u001b[0m         \u001b[0mincrements\u001b[0m \u001b[1;33m=\u001b[0m \u001b[0minitial_increments\u001b[0m\u001b[1;33m\u001b[0m\u001b[1;33m\u001b[0m\u001b[0m\n\u001b[0;32m      8\u001b[0m         \u001b[0mprint\u001b[0m\u001b[1;33m(\u001b[0m\u001b[1;34m'increments[i]'\u001b[0m\u001b[1;33m,\u001b[0m\u001b[0mincrements\u001b[0m\u001b[1;33m[\u001b[0m\u001b[0mi\u001b[0m\u001b[1;33m]\u001b[0m\u001b[1;33m,\u001b[0m\u001b[1;34m'initial_increments[i]'\u001b[0m\u001b[1;33m,\u001b[0m\u001b[0minitial_increments\u001b[0m\u001b[1;33m[\u001b[0m\u001b[0mi\u001b[0m\u001b[1;33m]\u001b[0m\u001b[1;33m)\u001b[0m\u001b[1;33m\u001b[0m\u001b[1;33m\u001b[0m\u001b[0m\n",
      "\u001b[1;31mUnboundLocalError\u001b[0m: local variable 'increments' referenced before assignment"
     ]
    }
   ],
   "source": [
    "flag = 0\n",
    "increment_i = increment\n",
    "#flag = 1 is a condition when the increment vector remains the same\n",
    "while flag == 0:\n",
    "    print('Initial overall profit:',find_rev(increment_i))\n",
    "    increment_iplus1 = incremental_new(increment_i)\n",
    "    if min(increment_iplus1) == min(increment_i):\n",
    "        if min(increment_iplus1) == 1:\n",
    "            flag = 1\n",
    "            increment_i = increment_iplus1\n",
    "\n",
    "print('Product changes', increment_i)\n"
   ]
  },
  {
   "cell_type": "code",
   "execution_count": 13,
   "metadata": {},
   "outputs": [
    {
     "name": "stdout",
     "output_type": "stream",
     "text": [
      "find rev function!!! 0.0\n",
      "New net profit 164.2949999999999\n",
      "find rev function!!! 0.0\n",
      "Old net profit 164.2949999999999\n"
     ]
    }
   ],
   "source": [
    "print('New net profit',find_rev(increment_i)) \n",
    "print('Old net profit',find_rev(increment)) \n",
    "price = increment_i"
   ]
  },
  {
   "cell_type": "code",
   "execution_count": 15,
   "metadata": {},
   "outputs": [
    {
     "name": "stdout",
     "output_type": "stream",
     "text": [
      "[0. 0. 0. 0. 0. 0. 0. 0. 0. 0. 0. 0. 0. 0. 0. 0. 0. 0. 0. 0. 0. 0. 0. 0.\n",
      " 0. 0. 0. 0. 0. 0. 0. 0. 0. 0. 0. 0. 0. 0. 0. 0. 0. 0. 0. 0. 0. 0. 0. 0.\n",
      " 0. 0. 0. 0. 0. 0. 0. 0. 0. 0. 0. 0. 0. 0. 0. 0. 0. 0. 0. 0. 0. 0. 0. 0.\n",
      " 0. 0. 0. 0. 0. 0. 0. 0. 0. 0. 0. 0. 0. 0. 0. 0. 0. 0. 0. 0. 0. 0. 0. 0.\n",
      " 0. 0. 0. 0. 0. 0. 0. 0. 0. 0. 0. 0. 0. 0. 0. 0. 0. 0. 0. 0. 0. 0. 0. 0.\n",
      " 0. 0. 0. 0. 0. 0. 0. 0. 0. 0. 0. 0. 0. 0. 0. 0. 0. 0. 0. 0. 0. 0. 0. 0.\n",
      " 0. 0. 0. 0. 0. 0. 0. 0. 0. 0. 0. 0. 0. 0. 0. 0. 0. 0. 0. 0. 0. 0. 0. 0.\n",
      " 0. 0. 0. 0. 0. 0. 0. 0. 0. 0. 0. 0. 0. 0. 0. 0. 0. 0. 0. 0. 0. 0. 0. 0.\n",
      " 0. 0. 0. 0. 0. 0. 0. 0. 0. 0. 0. 0. 0. 0. 0. 0. 0. 0. 0. 0. 0. 0. 0. 0.\n",
      " 0. 0. 0. 0. 0. 0. 0. 0. 0. 0. 0. 0. 0. 0. 0. 0. 0. 0. 0. 0. 0. 0. 0. 0.\n",
      " 0. 0. 0. 0. 0. 0. 0. 0. 0. 0.]\n"
     ]
    }
   ],
   "source": [
    "print(increment)"
   ]
  },
  {
   "cell_type": "code",
   "execution_count": 17,
   "metadata": {},
   "outputs": [
    {
     "name": "stdout",
     "output_type": "stream",
     "text": [
      "find rev function!!! 0.0\n",
      "164.2949999999999\n",
      "find rev function!!! 0.0\n"
     ]
    },
    {
     "ename": "UnboundLocalError",
     "evalue": "local variable 'increments' referenced before assignment",
     "output_type": "error",
     "traceback": [
      "\u001b[1;31m---------------------------------------------------------------------------\u001b[0m",
      "\u001b[1;31mUnboundLocalError\u001b[0m                         Traceback (most recent call last)",
      "\u001b[1;32m<ipython-input-17-ab8cf1fd9442>\u001b[0m in \u001b[0;36m<module>\u001b[1;34m\u001b[0m\n\u001b[0;32m      4\u001b[0m \u001b[1;32mwhile\u001b[0m \u001b[0mflag\u001b[0m \u001b[1;33m==\u001b[0m \u001b[1;36m0\u001b[0m\u001b[1;33m:\u001b[0m\u001b[1;33m\u001b[0m\u001b[1;33m\u001b[0m\u001b[0m\n\u001b[0;32m      5\u001b[0m     \u001b[0mprint\u001b[0m\u001b[1;33m(\u001b[0m\u001b[0mfind_rev\u001b[0m\u001b[1;33m(\u001b[0m\u001b[0mincrement_i\u001b[0m\u001b[1;33m)\u001b[0m\u001b[1;33m)\u001b[0m\u001b[1;33m\u001b[0m\u001b[1;33m\u001b[0m\u001b[0m\n\u001b[1;32m----> 6\u001b[1;33m     \u001b[0mincrement_iplus1\u001b[0m \u001b[1;33m=\u001b[0m \u001b[0mincremental_new\u001b[0m\u001b[1;33m(\u001b[0m\u001b[0mincrement_i\u001b[0m\u001b[1;33m)\u001b[0m\u001b[1;33m\u001b[0m\u001b[1;33m\u001b[0m\u001b[0m\n\u001b[0m\u001b[0;32m      7\u001b[0m     \u001b[1;32mif\u001b[0m \u001b[1;33m(\u001b[0m\u001b[0mmin\u001b[0m\u001b[1;33m(\u001b[0m\u001b[0mincrement_iplus1\u001b[0m \u001b[1;33m==\u001b[0m \u001b[0mincrement_i\u001b[0m\u001b[1;33m)\u001b[0m \u001b[1;33m==\u001b[0m \u001b[1;36m1\u001b[0m\u001b[1;33m)\u001b[0m\u001b[1;33m:\u001b[0m\u001b[1;33m\u001b[0m\u001b[1;33m\u001b[0m\u001b[0m\n\u001b[0;32m      8\u001b[0m         \u001b[0mflag\u001b[0m \u001b[1;33m=\u001b[0m \u001b[1;36m1\u001b[0m\u001b[1;33m\u001b[0m\u001b[1;33m\u001b[0m\u001b[0m\n",
      "\u001b[1;32m<ipython-input-11-e72689759617>\u001b[0m in \u001b[0;36mincremental_new\u001b[1;34m(initial_increments)\u001b[0m\n\u001b[0;32m      4\u001b[0m     \u001b[0mintermediate_rev\u001b[0m \u001b[1;33m=\u001b[0m \u001b[1;36m0\u001b[0m\u001b[1;33m\u001b[0m\u001b[1;33m\u001b[0m\u001b[0m\n\u001b[0;32m      5\u001b[0m     \u001b[1;32mfor\u001b[0m \u001b[0mi\u001b[0m \u001b[1;32min\u001b[0m \u001b[0mrange\u001b[0m\u001b[1;33m(\u001b[0m\u001b[1;36m0\u001b[0m\u001b[1;33m,\u001b[0m\u001b[1;36m250\u001b[0m\u001b[1;33m)\u001b[0m\u001b[1;33m:\u001b[0m\u001b[1;33m\u001b[0m\u001b[1;33m\u001b[0m\u001b[0m\n\u001b[1;32m----> 6\u001b[1;33m         \u001b[0mprint\u001b[0m\u001b[1;33m(\u001b[0m\u001b[1;34m'CURRENT I'\u001b[0m\u001b[1;33m,\u001b[0m \u001b[0mi\u001b[0m\u001b[1;33m,\u001b[0m \u001b[0mincrements\u001b[0m\u001b[1;33m)\u001b[0m\u001b[1;33m\u001b[0m\u001b[1;33m\u001b[0m\u001b[0m\n\u001b[0m\u001b[0;32m      7\u001b[0m         \u001b[0mincrements\u001b[0m \u001b[1;33m=\u001b[0m \u001b[0minitial_increments\u001b[0m\u001b[1;33m\u001b[0m\u001b[1;33m\u001b[0m\u001b[0m\n\u001b[0;32m      8\u001b[0m         \u001b[0mprint\u001b[0m\u001b[1;33m(\u001b[0m\u001b[1;34m'increments[i]'\u001b[0m\u001b[1;33m,\u001b[0m\u001b[0mincrements\u001b[0m\u001b[1;33m[\u001b[0m\u001b[0mi\u001b[0m\u001b[1;33m]\u001b[0m\u001b[1;33m,\u001b[0m\u001b[1;34m'initial_increments[i]'\u001b[0m\u001b[1;33m,\u001b[0m\u001b[0minitial_increments\u001b[0m\u001b[1;33m[\u001b[0m\u001b[0mi\u001b[0m\u001b[1;33m]\u001b[0m\u001b[1;33m)\u001b[0m\u001b[1;33m\u001b[0m\u001b[1;33m\u001b[0m\u001b[0m\n",
      "\u001b[1;31mUnboundLocalError\u001b[0m: local variable 'increments' referenced before assignment"
     ]
    }
   ],
   "source": [
    "flag = 0\n",
    "increment_i = increment\n",
    "#flag = 1 is a condition when the increment vector remains the same\n",
    "while flag == 0:\n",
    "    print(find_rev(increment_i))\n",
    "    increment_iplus1 = incremental_new(increment_i)\n",
    "    if (min(increment_iplus1 == increment_i) == 1):\n",
    "        flag = 1\n",
    "        increment_i = increment_iplus1\n",
    "return increment_i"
   ]
  },
  {
   "cell_type": "code",
   "execution_count": null,
   "metadata": {},
   "outputs": [],
   "source": [
    "increment_i\n",
    "find_rev(increment_i)\n",
    "/find_rev(increment)\n",
    "price = increment_i\n",
    "write.csv(price,\"price.csv\")\n",
    "\n",
    "#This function tries to get the next best increment vector\n",
    "incremental_new = function(initial_increments){\n",
    "initial_rev = find_rev(initial_increments)\n",
    "intermediate_rev = 0\n",
    "for(i in 1:250){\n",
    "increments = initial_increments\n",
    "if(increments[i] > -0.099) {increments[i] = increments[i] - 0.01}\n",
    "rev = find_rev(increments)\n",
    "if (rev > initial_rev) {final_increments = increments\n",
    "intermediate_rev = rev\n",
    "}\n",
    "if(increments[i] < 0.19) {increments[i] = initial_increments[i] + 0.01}\n",
    "rev = find_rev(increments)\n",
    "if (rev > max(initial_rev,intermediate_rev)) {final_increments = increments}\n",
    "}\n",
    "return(final_increments)\n",
    "}\n",
    "# This function will get us the overall revenue for the given increment vector\n",
    "find_rev = function(increment){\n",
    "price = data$Avg_Price_per_unit*(1+increment)\n",
    "volumes = data$Average_units_sold*(1-(data$Increase_sale_volume*increment*10))\n",
    "multiplier = (1-(data$Incremental_acquisition*increment*10))\n",
    "total_multiplier = prod(multiplier)\n",
    "profit_wo_multiplier = 0.05*(sum(price*volumes) - sum(volumes*data$Cost_per_unit))\n",
    "profit_w_multiplier = profit_wo_multiplier*total_multiplier\n",
    "net_profit = sum(profit_w_multiplier)\n",
    "return(net_profit)}"
   ]
  }
 ],
 "metadata": {
  "kernelspec": {
   "display_name": "Python 3",
   "language": "python",
   "name": "python3"
  },
  "language_info": {
   "codemirror_mode": {
    "name": "ipython",
    "version": 3
   },
   "file_extension": ".py",
   "mimetype": "text/x-python",
   "name": "python",
   "nbconvert_exporter": "python",
   "pygments_lexer": "ipython3",
   "version": "3.7.6"
  }
 },
 "nbformat": 4,
 "nbformat_minor": 2
}
