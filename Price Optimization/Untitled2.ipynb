{
 "cells": [
  {
   "cell_type": "code",
   "execution_count": 9,
   "metadata": {},
   "outputs": [],
   "source": [
    "import pandas as pd\n",
    "import numpy as np"
   ]
  },
  {
   "cell_type": "code",
   "execution_count": 10,
   "metadata": {},
   "outputs": [],
   "source": [
    "data = pd.read_csv('Vendor_Data.csv')"
   ]
  },
  {
   "cell_type": "code",
   "execution_count": 11,
   "metadata": {},
   "outputs": [
    {
     "data": {
      "text/html": [
       "<div>\n",
       "<style scoped>\n",
       "    .dataframe tbody tr th:only-of-type {\n",
       "        vertical-align: middle;\n",
       "    }\n",
       "\n",
       "    .dataframe tbody tr th {\n",
       "        vertical-align: top;\n",
       "    }\n",
       "\n",
       "    .dataframe thead th {\n",
       "        text-align: right;\n",
       "    }\n",
       "</style>\n",
       "<table border=\"1\" class=\"dataframe\">\n",
       "  <thead>\n",
       "    <tr style=\"text-align: right;\">\n",
       "      <th></th>\n",
       "      <th>Products</th>\n",
       "      <th>Avg_Price_per_unit</th>\n",
       "      <th>Cost_per_unit</th>\n",
       "      <th>Average_Profit_per_unit</th>\n",
       "      <th>Average_units_sold</th>\n",
       "      <th>Incremental_acquisition</th>\n",
       "      <th>Increase_sale_volume</th>\n",
       "    </tr>\n",
       "  </thead>\n",
       "  <tbody>\n",
       "    <tr>\n",
       "      <th>0</th>\n",
       "      <td>Product 1</td>\n",
       "      <td>95</td>\n",
       "      <td>92</td>\n",
       "      <td>2.8</td>\n",
       "      <td>0.6</td>\n",
       "      <td>0.00323</td>\n",
       "      <td>0.08906</td>\n",
       "    </tr>\n",
       "    <tr>\n",
       "      <th>1</th>\n",
       "      <td>Product 2</td>\n",
       "      <td>37</td>\n",
       "      <td>27</td>\n",
       "      <td>10.0</td>\n",
       "      <td>0.8</td>\n",
       "      <td>0.00106</td>\n",
       "      <td>0.01991</td>\n",
       "    </tr>\n",
       "    <tr>\n",
       "      <th>2</th>\n",
       "      <td>Product 3</td>\n",
       "      <td>34</td>\n",
       "      <td>26</td>\n",
       "      <td>8.5</td>\n",
       "      <td>0.6</td>\n",
       "      <td>0.00328</td>\n",
       "      <td>0.03778</td>\n",
       "    </tr>\n",
       "    <tr>\n",
       "      <th>3</th>\n",
       "      <td>Product 4</td>\n",
       "      <td>32</td>\n",
       "      <td>30</td>\n",
       "      <td>2.8</td>\n",
       "      <td>0.7</td>\n",
       "      <td>0.00000</td>\n",
       "      <td>0.08562</td>\n",
       "    </tr>\n",
       "    <tr>\n",
       "      <th>4</th>\n",
       "      <td>Product 5</td>\n",
       "      <td>62</td>\n",
       "      <td>45</td>\n",
       "      <td>16.0</td>\n",
       "      <td>1.0</td>\n",
       "      <td>0.00079</td>\n",
       "      <td>0.02637</td>\n",
       "    </tr>\n",
       "  </tbody>\n",
       "</table>\n",
       "</div>"
      ],
      "text/plain": [
       "    Products  Avg_Price_per_unit  Cost_per_unit  Average_Profit_per_unit  \\\n",
       "0  Product 1                  95             92                      2.8   \n",
       "1  Product 2                  37             27                     10.0   \n",
       "2  Product 3                  34             26                      8.5   \n",
       "3  Product 4                  32             30                      2.8   \n",
       "4  Product 5                  62             45                     16.0   \n",
       "\n",
       "   Average_units_sold  Incremental_acquisition  Increase_sale_volume  \n",
       "0                 0.6                  0.00323               0.08906  \n",
       "1                 0.8                  0.00106               0.01991  \n",
       "2                 0.6                  0.00328               0.03778  \n",
       "3                 0.7                  0.00000               0.08562  \n",
       "4                 1.0                  0.00079               0.02637  "
      ]
     },
     "execution_count": 11,
     "metadata": {},
     "output_type": "execute_result"
    }
   ],
   "source": [
    "data.head()"
   ]
  },
  {
   "cell_type": "code",
   "execution_count": 12,
   "metadata": {},
   "outputs": [
    {
     "data": {
      "text/plain": [
       "(250, 7)"
      ]
     },
     "execution_count": 12,
     "metadata": {},
     "output_type": "execute_result"
    }
   ],
   "source": [
    "data.shape"
   ]
  },
  {
   "cell_type": "code",
   "execution_count": 13,
   "metadata": {},
   "outputs": [
    {
     "data": {
      "text/html": [
       "<div>\n",
       "<style scoped>\n",
       "    .dataframe tbody tr th:only-of-type {\n",
       "        vertical-align: middle;\n",
       "    }\n",
       "\n",
       "    .dataframe tbody tr th {\n",
       "        vertical-align: top;\n",
       "    }\n",
       "\n",
       "    .dataframe thead th {\n",
       "        text-align: right;\n",
       "    }\n",
       "</style>\n",
       "<table border=\"1\" class=\"dataframe\">\n",
       "  <thead>\n",
       "    <tr style=\"text-align: right;\">\n",
       "      <th></th>\n",
       "      <th>Products</th>\n",
       "      <th>Avg_Price_per_unit</th>\n",
       "      <th>Cost_per_unit</th>\n",
       "      <th>Average_Profit_per_unit</th>\n",
       "      <th>Average_units_sold</th>\n",
       "      <th>Incremental_acquisition</th>\n",
       "      <th>Increase_sale_volume</th>\n",
       "    </tr>\n",
       "  </thead>\n",
       "  <tbody>\n",
       "    <tr>\n",
       "      <th>245</th>\n",
       "      <td>Product 246</td>\n",
       "      <td>23</td>\n",
       "      <td>21</td>\n",
       "      <td>2.0</td>\n",
       "      <td>1.5</td>\n",
       "      <td>0.00290</td>\n",
       "      <td>0.07129</td>\n",
       "    </tr>\n",
       "    <tr>\n",
       "      <th>246</th>\n",
       "      <td>Product 247</td>\n",
       "      <td>59</td>\n",
       "      <td>57</td>\n",
       "      <td>1.5</td>\n",
       "      <td>0.5</td>\n",
       "      <td>0.00000</td>\n",
       "      <td>0.05905</td>\n",
       "    </tr>\n",
       "    <tr>\n",
       "      <th>247</th>\n",
       "      <td>Product 248</td>\n",
       "      <td>16</td>\n",
       "      <td>15</td>\n",
       "      <td>0.9</td>\n",
       "      <td>1.6</td>\n",
       "      <td>0.00095</td>\n",
       "      <td>0.04835</td>\n",
       "    </tr>\n",
       "    <tr>\n",
       "      <th>248</th>\n",
       "      <td>Product 249</td>\n",
       "      <td>84</td>\n",
       "      <td>71</td>\n",
       "      <td>13.2</td>\n",
       "      <td>0.8</td>\n",
       "      <td>0.00264</td>\n",
       "      <td>0.00473</td>\n",
       "    </tr>\n",
       "    <tr>\n",
       "      <th>249</th>\n",
       "      <td>Product 250</td>\n",
       "      <td>38</td>\n",
       "      <td>28</td>\n",
       "      <td>9.7</td>\n",
       "      <td>2.1</td>\n",
       "      <td>0.00540</td>\n",
       "      <td>0.02149</td>\n",
       "    </tr>\n",
       "  </tbody>\n",
       "</table>\n",
       "</div>"
      ],
      "text/plain": [
       "        Products  Avg_Price_per_unit  Cost_per_unit  Average_Profit_per_unit  \\\n",
       "245  Product 246                  23             21                      2.0   \n",
       "246  Product 247                  59             57                      1.5   \n",
       "247  Product 248                  16             15                      0.9   \n",
       "248  Product 249                  84             71                     13.2   \n",
       "249  Product 250                  38             28                      9.7   \n",
       "\n",
       "     Average_units_sold  Incremental_acquisition  Increase_sale_volume  \n",
       "245                 1.5                  0.00290               0.07129  \n",
       "246                 0.5                  0.00000               0.05905  \n",
       "247                 1.6                  0.00095               0.04835  \n",
       "248                 0.8                  0.00264               0.00473  \n",
       "249                 2.1                  0.00540               0.02149  "
      ]
     },
     "execution_count": 13,
     "metadata": {},
     "output_type": "execute_result"
    }
   ],
   "source": [
    "data.tail()"
   ]
  },
  {
   "cell_type": "code",
   "execution_count": 14,
   "metadata": {},
   "outputs": [],
   "source": [
    "increment = np.zeros(250,)"
   ]
  },
  {
   "cell_type": "code",
   "execution_count": 15,
   "metadata": {},
   "outputs": [
    {
     "name": "stdout",
     "output_type": "stream",
     "text": [
      "[0. 0. 0. 0. 0. 0. 0. 0. 0. 0. 0. 0. 0. 0. 0. 0. 0. 0. 0. 0. 0. 0. 0. 0.\n",
      " 0. 0. 0. 0. 0. 0. 0. 0. 0. 0. 0. 0. 0. 0. 0. 0. 0. 0. 0. 0. 0. 0. 0. 0.\n",
      " 0. 0. 0. 0. 0. 0. 0. 0. 0. 0. 0. 0. 0. 0. 0. 0. 0. 0. 0. 0. 0. 0. 0. 0.\n",
      " 0. 0. 0. 0. 0. 0. 0. 0. 0. 0. 0. 0. 0. 0. 0. 0. 0. 0. 0. 0. 0. 0. 0. 0.\n",
      " 0. 0. 0. 0. 0. 0. 0. 0. 0. 0. 0. 0. 0. 0. 0. 0. 0. 0. 0. 0. 0. 0. 0. 0.\n",
      " 0. 0. 0. 0. 0. 0. 0. 0. 0. 0. 0. 0. 0. 0. 0. 0. 0. 0. 0. 0. 0. 0. 0. 0.\n",
      " 0. 0. 0. 0. 0. 0. 0. 0. 0. 0. 0. 0. 0. 0. 0. 0. 0. 0. 0. 0. 0. 0. 0. 0.\n",
      " 0. 0. 0. 0. 0. 0. 0. 0. 0. 0. 0. 0. 0. 0. 0. 0. 0. 0. 0. 0. 0. 0. 0. 0.\n",
      " 0. 0. 0. 0. 0. 0. 0. 0. 0. 0. 0. 0. 0. 0. 0. 0. 0. 0. 0. 0. 0. 0. 0. 0.\n",
      " 0. 0. 0. 0. 0. 0. 0. 0. 0. 0. 0. 0. 0. 0. 0. 0. 0. 0. 0. 0. 0. 0. 0. 0.\n",
      " 0. 0. 0. 0. 0. 0. 0. 0. 0. 0.]\n"
     ]
    }
   ],
   "source": [
    "print(increment)"
   ]
  },
  {
   "cell_type": "code",
   "execution_count": 16,
   "metadata": {},
   "outputs": [
    {
     "ename": "NameError",
     "evalue": "name 'find_rev' is not defined",
     "output_type": "error",
     "traceback": [
      "\u001b[1;31m---------------------------------------------------------------------------\u001b[0m",
      "\u001b[1;31mNameError\u001b[0m                                 Traceback (most recent call last)",
      "\u001b[1;32m<ipython-input-16-85793b5b7eee>\u001b[0m in \u001b[0;36m<module>\u001b[1;34m\u001b[0m\n\u001b[0;32m      5\u001b[0m \u001b[1;33m\u001b[0m\u001b[0m\n\u001b[0;32m      6\u001b[0m \u001b[1;32mwhile\u001b[0m \u001b[0mflag\u001b[0m \u001b[1;33m==\u001b[0m \u001b[1;36m0\u001b[0m\u001b[1;33m:\u001b[0m\u001b[1;33m\u001b[0m\u001b[1;33m\u001b[0m\u001b[0m\n\u001b[1;32m----> 7\u001b[1;33m     \u001b[0mprint\u001b[0m\u001b[1;33m(\u001b[0m\u001b[0mfind_rev\u001b[0m\u001b[1;33m(\u001b[0m\u001b[0mincrement_i\u001b[0m\u001b[1;33m)\u001b[0m\u001b[1;33m)\u001b[0m\u001b[1;33m\u001b[0m\u001b[1;33m\u001b[0m\u001b[0m\n\u001b[0m\u001b[0;32m      8\u001b[0m     \u001b[0mincrement_iplus1\u001b[0m \u001b[1;33m=\u001b[0m \u001b[0mincremental_new\u001b[0m\u001b[1;33m(\u001b[0m\u001b[0mincrement_i\u001b[0m\u001b[1;33m)\u001b[0m\u001b[1;33m\u001b[0m\u001b[1;33m\u001b[0m\u001b[0m\n\u001b[0;32m      9\u001b[0m     \u001b[1;32mif\u001b[0m \u001b[1;33m(\u001b[0m\u001b[0mmin\u001b[0m\u001b[1;33m(\u001b[0m\u001b[0mincrement_iplus1\u001b[0m \u001b[1;33m==\u001b[0m \u001b[0mincrement_i\u001b[0m\u001b[1;33m)\u001b[0m \u001b[1;33m==\u001b[0m \u001b[1;36m1\u001b[0m\u001b[1;33m)\u001b[0m\u001b[1;33m:\u001b[0m\u001b[1;33m\u001b[0m\u001b[1;33m\u001b[0m\u001b[0m\n",
      "\u001b[1;31mNameError\u001b[0m: name 'find_rev' is not defined"
     ]
    }
   ],
   "source": [
    "flag = 0\n",
    "increment_i = increment\n",
    "\n",
    "#flag = 1 is a condition when the increment vector remains the same\n",
    "\n",
    "while flag == 0: \n",
    "    print(find_rev(increment_i))\n",
    "    increment_iplus1 = incremental_new(increment_i)\n",
    "    if (min(increment_iplus1 == increment_i) == 1):\n",
    "        print(flag = 1)\n",
    "        increment_i = increment_iplus1\n",
    "\n",
    "increment_i\n",
    "find_rev(increment_i)\n",
    "/find_rev(increment)\n",
    "price = increment_i\n",
    "price.to_csv(\"price.csv\")\n",
    "\n",
    "#This function tries to get the next best increment vector\n",
    "incremental_new = function(initial_increments)\n",
    "initial_rev = find_rev(initial_increments)\n",
    "intermediate_rev = 0\n",
    "\n",
    "for i in (1,250):\n",
    "    increments = initial_increments\n",
    "    if increments[i] > -0.099:\n",
    "        increments[i] = increments[i] - 0.01\n",
    "        rev = find_rev(increments)\n",
    "        if rev > initial_rev:\n",
    "            final_increments = increments\n",
    "            intermediate_rev = rev\n",
    "            if increments[i] < 0.19:\n",
    "                increments[i] = initial_increments[i] + 0.01 \n",
    "                rev = find_rev(increments)\n",
    "                if rev > np.logical_or(max(initial_rev,intermediate_rev)):\n",
    "                                       final_increments = increments\n",
    "                                       \n",
    "print(\"final increment :\" + final_increments)\n",
    "                                       \n",
    "# This function will get us the overall revenue for the given increment vector\n",
    "find_rev = function(increment)\n",
    "price = data['Avg_Price_per_unit']*(1+increment)\n",
    "volumes = data['Average_units_sold']*(1-(data['Increase_sale_volume']*increment*10))\n",
    "multiplier = (1-(data['Incremental_acquisition']*increment*10))\n",
    "total_multiplier = np.prod(multiplier)\n",
    "profit_wo_multiplier = 0.05*(np.sum(price*volumes) - np.sum(volumes*data['Cost_per_unit']))\n",
    "profit_w_multiplier = profit_wo_multiplier*total_multiplier\n",
    "net_profit = np.sum(profit_w_multiplier)\n",
    "print(net_profit)"
   ]
  },
  {
   "cell_type": "code",
   "execution_count": null,
   "metadata": {},
   "outputs": [],
   "source": []
  }
 ],
 "metadata": {
  "kernelspec": {
   "display_name": "Python 3",
   "language": "python",
   "name": "python3"
  },
  "language_info": {
   "codemirror_mode": {
    "name": "ipython",
    "version": 3
   },
   "file_extension": ".py",
   "mimetype": "text/x-python",
   "name": "python",
   "nbconvert_exporter": "python",
   "pygments_lexer": "ipython3",
   "version": "3.7.6"
  }
 },
 "nbformat": 4,
 "nbformat_minor": 2
}
